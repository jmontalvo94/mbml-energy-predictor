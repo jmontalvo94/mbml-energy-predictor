{
 "cells": [
  {
   "cell_type": "code",
   "execution_count": 2,
   "metadata": {
    "ExecuteTime": {
     "end_time": "2020-04-23T12:38:49.123543Z",
     "start_time": "2020-04-23T12:38:47.475987Z"
    }
   },
   "outputs": [
    {
     "data": {
      "text/html": [
       "<style>.container { width:90% !important; }</style>"
      ],
      "text/plain": [
       "<IPython.core.display.HTML object>"
      ]
     },
     "metadata": {},
     "output_type": "display_data"
    }
   ],
   "source": [
    "import numpy as np\n",
    "import pandas as pd\n",
    "from matplotlib import pyplot as plt\n",
    "import seaborn as sns\n",
    "import time\n",
    "from IPython.core.display import display, HTML\n",
    "display(HTML(\"<style>.container { width:90% !important; }</style>\"))\n",
    "\n",
    "import os\n",
    "import pandas as pd\n",
    "import matplotlib.pyplot as plt\n",
    "import seaborn as sns\n",
    "import datetime as dt\n",
    "from tools import *\n",
    "datadir = '/'.join(os.getcwd().split('/')[:-1])+\"/2_Data/\"\n",
    "import numpyro\n",
    "import numpyro.distributions as dist\n",
    "from numpyro import handlers\n",
    "from numpyro.infer import MCMC, NUTS\n",
    "\n",
    "import jax.numpy as jnp\n",
    "from jax import random, vmap\n",
    "from jax.scipy.special import logsumexp\n",
    "from jax import lax\n",
    "\n",
    "# fix random generator seed (for reproducibility of results)\n",
    "np.random.seed(42)\n",
    "\n",
    "# matplotlib style options\n",
    "plt.style.use('ggplot')\n",
    "%matplotlib inline\n",
    "plt.rcParams['figure.figsize'] = (16, 10)\n"
   ]
  },
  {
   "cell_type": "code",
   "execution_count": 3,
   "metadata": {
    "ExecuteTime": {
     "end_time": "2020-04-23T12:39:01.574236Z",
     "start_time": "2020-04-23T12:38:52.801289Z"
    }
   },
   "outputs": [],
   "source": [
    "raw = pd.read_csv(datadir+'train.csv')\n",
    "meta_df = pd.read_csv(datadir+'building_metadata.csv')"
   ]
  },
  {
   "cell_type": "code",
   "execution_count": 4,
   "metadata": {
    "ExecuteTime": {
     "end_time": "2020-04-23T12:39:01.661259Z",
     "start_time": "2020-04-23T12:39:01.657665Z"
    }
   },
   "outputs": [],
   "source": [
    "@logger\n",
    "def select_meter(df, meter=0):\n",
    "    return df[df.meter==0]\n",
    "\n",
    "@logger\n",
    "def drop_outliers(df, threshold=5000):\n",
    "    return df[df.meter_reading<threshold]\n",
    "\n",
    "@logger\n",
    "def to_datetime(df):\n",
    "    df.timestamp = pd.to_datetime(df.timestamp)\n",
    "    return df"
   ]
  },
  {
   "cell_type": "code",
   "execution_count": 8,
   "metadata": {
    "ExecuteTime": {
     "end_time": "2020-04-23T12:40:09.849051Z",
     "start_time": "2020-04-23T12:40:04.317846Z"
    }
   },
   "outputs": [
    {
     "name": "stdout",
     "output_type": "stream",
     "text": [
      "start_pipeline took 0:00:00 secs, shape(20216100, 4)\n",
      "Mem. usage decreased to 289.19 Mb (53.1% reduction)\n",
      "reduce_mem_usage took 0:00:00 secs, shape(20216100, 4)\n",
      "select_meter took 0:00:00 secs, shape(12060910, 4)\n",
      "drop_outliers took 0:00:00 secs, shape(12049079, 4)\n",
      "to_datetime took 0:00:00 secs, shape(12049079, 4)\n"
     ]
    }
   ],
   "source": [
    "df = (raw.pipe(start_pipeline)\n",
    "         .pipe(reduce_mem_usage)\n",
    "         .pipe(select_meter)\n",
    "         .pipe(drop_outliers)   \n",
    "         .pipe(to_datetime)\n",
    "     )\n",
    "     \n",
    "\n",
    "df = df.set_index('building_id').join(meta_df.set_index('building_id'))\n",
    "\n",
    "df = df[df.primary_use == 'Lodging/residential']\n",
    "df.set_index('timestamp', inplace=True)\n"
   ]
  },
  {
   "cell_type": "code",
   "execution_count": 47,
   "metadata": {
    "ExecuteTime": {
     "end_time": "2020-04-23T12:46:01.973465Z",
     "start_time": "2020-04-23T12:46:01.955115Z"
    }
   },
   "outputs": [
    {
     "data": {
      "text/html": [
       "<div>\n",
       "<style scoped>\n",
       "    .dataframe tbody tr th:only-of-type {\n",
       "        vertical-align: middle;\n",
       "    }\n",
       "\n",
       "    .dataframe tbody tr th {\n",
       "        vertical-align: top;\n",
       "    }\n",
       "\n",
       "    .dataframe thead th {\n",
       "        text-align: right;\n",
       "    }\n",
       "</style>\n",
       "<table border=\"1\" class=\"dataframe\">\n",
       "  <thead>\n",
       "    <tr style=\"text-align: right;\">\n",
       "      <th></th>\n",
       "      <th>meter</th>\n",
       "      <th>meter_reading</th>\n",
       "      <th>site_id</th>\n",
       "      <th>primary_use</th>\n",
       "      <th>square_feet</th>\n",
       "      <th>year_built</th>\n",
       "      <th>floor_count</th>\n",
       "    </tr>\n",
       "    <tr>\n",
       "      <th>timestamp</th>\n",
       "      <th></th>\n",
       "      <th></th>\n",
       "      <th></th>\n",
       "      <th></th>\n",
       "      <th></th>\n",
       "      <th></th>\n",
       "      <th></th>\n",
       "    </tr>\n",
       "  </thead>\n",
       "  <tbody>\n",
       "    <tr>\n",
       "      <th>2016-01-01 00:00:00</th>\n",
       "      <td>0</td>\n",
       "      <td>0.000000</td>\n",
       "      <td>0</td>\n",
       "      <td>Lodging/residential</td>\n",
       "      <td>27926</td>\n",
       "      <td>1981.0</td>\n",
       "      <td>NaN</td>\n",
       "    </tr>\n",
       "    <tr>\n",
       "      <th>2016-01-01 01:00:00</th>\n",
       "      <td>0</td>\n",
       "      <td>0.000000</td>\n",
       "      <td>0</td>\n",
       "      <td>Lodging/residential</td>\n",
       "      <td>27926</td>\n",
       "      <td>1981.0</td>\n",
       "      <td>NaN</td>\n",
       "    </tr>\n",
       "    <tr>\n",
       "      <th>2016-01-01 02:00:00</th>\n",
       "      <td>0</td>\n",
       "      <td>0.000000</td>\n",
       "      <td>0</td>\n",
       "      <td>Lodging/residential</td>\n",
       "      <td>27926</td>\n",
       "      <td>1981.0</td>\n",
       "      <td>NaN</td>\n",
       "    </tr>\n",
       "    <tr>\n",
       "      <th>2016-01-01 03:00:00</th>\n",
       "      <td>0</td>\n",
       "      <td>0.000000</td>\n",
       "      <td>0</td>\n",
       "      <td>Lodging/residential</td>\n",
       "      <td>27926</td>\n",
       "      <td>1981.0</td>\n",
       "      <td>NaN</td>\n",
       "    </tr>\n",
       "    <tr>\n",
       "      <th>2016-01-01 04:00:00</th>\n",
       "      <td>0</td>\n",
       "      <td>0.000000</td>\n",
       "      <td>0</td>\n",
       "      <td>Lodging/residential</td>\n",
       "      <td>27926</td>\n",
       "      <td>1981.0</td>\n",
       "      <td>NaN</td>\n",
       "    </tr>\n",
       "    <tr>\n",
       "      <th>...</th>\n",
       "      <td>...</td>\n",
       "      <td>...</td>\n",
       "      <td>...</td>\n",
       "      <td>...</td>\n",
       "      <td>...</td>\n",
       "      <td>...</td>\n",
       "      <td>...</td>\n",
       "    </tr>\n",
       "    <tr>\n",
       "      <th>2016-12-31 19:00:00</th>\n",
       "      <td>0</td>\n",
       "      <td>167.800003</td>\n",
       "      <td>15</td>\n",
       "      <td>Lodging/residential</td>\n",
       "      <td>29775</td>\n",
       "      <td>2001.0</td>\n",
       "      <td>NaN</td>\n",
       "    </tr>\n",
       "    <tr>\n",
       "      <th>2016-12-31 20:00:00</th>\n",
       "      <td>0</td>\n",
       "      <td>168.149994</td>\n",
       "      <td>15</td>\n",
       "      <td>Lodging/residential</td>\n",
       "      <td>29775</td>\n",
       "      <td>2001.0</td>\n",
       "      <td>NaN</td>\n",
       "    </tr>\n",
       "    <tr>\n",
       "      <th>2016-12-31 21:00:00</th>\n",
       "      <td>0</td>\n",
       "      <td>164.074997</td>\n",
       "      <td>15</td>\n",
       "      <td>Lodging/residential</td>\n",
       "      <td>29775</td>\n",
       "      <td>2001.0</td>\n",
       "      <td>NaN</td>\n",
       "    </tr>\n",
       "    <tr>\n",
       "      <th>2016-12-31 22:00:00</th>\n",
       "      <td>0</td>\n",
       "      <td>158.800003</td>\n",
       "      <td>15</td>\n",
       "      <td>Lodging/residential</td>\n",
       "      <td>29775</td>\n",
       "      <td>2001.0</td>\n",
       "      <td>NaN</td>\n",
       "    </tr>\n",
       "    <tr>\n",
       "      <th>2016-12-31 23:00:00</th>\n",
       "      <td>0</td>\n",
       "      <td>159.574997</td>\n",
       "      <td>15</td>\n",
       "      <td>Lodging/residential</td>\n",
       "      <td>29775</td>\n",
       "      <td>2001.0</td>\n",
       "      <td>NaN</td>\n",
       "    </tr>\n",
       "  </tbody>\n",
       "</table>\n",
       "<p>1229068 rows × 7 columns</p>\n",
       "</div>"
      ],
      "text/plain": [
       "                     meter  meter_reading  site_id          primary_use  \\\n",
       "timestamp                                                                 \n",
       "2016-01-01 00:00:00      0       0.000000        0  Lodging/residential   \n",
       "2016-01-01 01:00:00      0       0.000000        0  Lodging/residential   \n",
       "2016-01-01 02:00:00      0       0.000000        0  Lodging/residential   \n",
       "2016-01-01 03:00:00      0       0.000000        0  Lodging/residential   \n",
       "2016-01-01 04:00:00      0       0.000000        0  Lodging/residential   \n",
       "...                    ...            ...      ...                  ...   \n",
       "2016-12-31 19:00:00      0     167.800003       15  Lodging/residential   \n",
       "2016-12-31 20:00:00      0     168.149994       15  Lodging/residential   \n",
       "2016-12-31 21:00:00      0     164.074997       15  Lodging/residential   \n",
       "2016-12-31 22:00:00      0     158.800003       15  Lodging/residential   \n",
       "2016-12-31 23:00:00      0     159.574997       15  Lodging/residential   \n",
       "\n",
       "                     square_feet  year_built  floor_count  \n",
       "timestamp                                                  \n",
       "2016-01-01 00:00:00        27926      1981.0          NaN  \n",
       "2016-01-01 01:00:00        27926      1981.0          NaN  \n",
       "2016-01-01 02:00:00        27926      1981.0          NaN  \n",
       "2016-01-01 03:00:00        27926      1981.0          NaN  \n",
       "2016-01-01 04:00:00        27926      1981.0          NaN  \n",
       "...                          ...         ...          ...  \n",
       "2016-12-31 19:00:00        29775      2001.0          NaN  \n",
       "2016-12-31 20:00:00        29775      2001.0          NaN  \n",
       "2016-12-31 21:00:00        29775      2001.0          NaN  \n",
       "2016-12-31 22:00:00        29775      2001.0          NaN  \n",
       "2016-12-31 23:00:00        29775      2001.0          NaN  \n",
       "\n",
       "[1229068 rows x 7 columns]"
      ]
     },
     "execution_count": 47,
     "metadata": {},
     "output_type": "execute_result"
    }
   ],
   "source": [
    "df"
   ]
  },
  {
   "cell_type": "code",
   "execution_count": 46,
   "metadata": {
    "ExecuteTime": {
     "end_time": "2020-04-23T12:45:48.442580Z",
     "start_time": "2020-04-23T12:45:48.204482Z"
    }
   },
   "outputs": [
    {
     "name": "stdout",
     "output_type": "stream",
     "text": [
      "N=366, D=1\n"
     ]
    }
   ],
   "source": [
    "data = df[[ 'meter_reading']]\n",
    "y = data.resample('D').mean().values\n",
    "#univariete_tensor = torch.Tensor(univariete.values)\n",
    "N, D = y.shape\n",
    "print(\"N=%d, D=%d\" % (N,D))"
   ]
  },
  {
   "cell_type": "code",
   "execution_count": 43,
   "metadata": {
    "ExecuteTime": {
     "end_time": "2020-04-23T12:45:29.106914Z",
     "start_time": "2020-04-23T12:45:29.099044Z"
    }
   },
   "outputs": [],
   "source": [
    "# scale\n",
    "y -= y.mean()\n",
    "y /= y.std()"
   ]
  },
  {
   "cell_type": "code",
   "execution_count": 44,
   "metadata": {
    "ExecuteTime": {
     "end_time": "2020-04-23T12:45:29.759203Z",
     "start_time": "2020-04-23T12:45:29.741144Z"
    }
   },
   "outputs": [
    {
     "name": "stdout",
     "output_type": "stream",
     "text": [
      "N_train: 45\n",
      "N_test: 8\n"
     ]
    }
   ],
   "source": [
    "ix_train = range(45)\n",
    "ix_test = range(45,53)\n",
    "N_train = len(ix_train)\n",
    "N_test = len(ix_test)\n",
    "print(\"N_train:\", N_train)\n",
    "print(\"N_test:\", N_test)\n",
    "y_train = y[ix_train,:]\n",
    "y_test = y[ix_test,:]"
   ]
  },
  {
   "cell_type": "code",
   "execution_count": 45,
   "metadata": {
    "ExecuteTime": {
     "end_time": "2020-04-23T12:45:30.627863Z",
     "start_time": "2020-04-23T12:45:30.617746Z"
    }
   },
   "outputs": [],
   "source": [
    "def f(carry, noise_t):\n",
    "    beta1, beta2, z_prev1, z_prev2, tau = carry\n",
    "    z_t = beta1*z_prev1 + beta2*z_prev2 + tau*noise_t\n",
    "    z_prev1 = z_prev2\n",
    "    z_prev2 = z_t\n",
    "    return (beta1, beta2, z_prev1, z_prev2, tau), z_t\n",
    "def model(T, T_forecast, obs=None):\n",
    "    \"\"\" Define priors over beta1, beta2, tau, noises, sigma, z_prev1 and z_prev2 (keep the shapes in mind)\n",
    "    # Your code here\n",
    "    \"\"\"\n",
    "    beta1 = numpyro.sample(name=\"beta_1\", fn=dist.Normal(loc=0., scale=5.))\n",
    "    beta2 = numpyro.sample(name=\"beta_2\", fn=dist.Normal(loc=0., scale=5.))\n",
    "    tau = numpyro.sample(name=\"tau\", fn=dist.HalfCauchy(scale=5.))\n",
    "    noises = numpyro.sample(\"noises\", fn=dist.Normal(0., 10.), sample_shape=(T+T_forecast-2,))\n",
    "    sigma = numpyro.sample(name=\"sigma\", fn=dist.HalfCauchy(scale=5.))\n",
    "    z_prev1 = numpyro.sample(name=\"z_1\", fn=dist.Normal(loc=0., scale=5.))\n",
    "    z_prev2 = numpyro.sample(name=\"z_2\", fn=dist.Normal(loc=0., scale=5.))\n",
    "    \n",
    "    \"\"\" Propagate the dynamics forward using jax.lax.scan\n",
    "    carry = (beta1, beta2, z_prev1, z_prev2, tau)\n",
    "    z_collection = [z_prev1, z_prev2]\n",
    "    # Your code here\n",
    "    \"\"\"\n",
    "    carry = (beta1, beta2, z_prev1, z_prev2, tau)\n",
    "    z_collection = [z_prev1, z_prev2]\n",
    "    carry, zs_exp = lax.scan(f, carry, noises, T+T_forecast-2)\n",
    "    z_collection = jnp.concatenate((jnp.array(z_collection), zs_exp), axis=0)\n",
    "    \n",
    "    \"\"\" Sample the observed_y (y_obs) and predicted_y (y_pred) - note that you don't need a pyro.plate!\n",
    "    # Your code here\n",
    "    \"\"\"\n",
    "    numpyro.sample(name=\"y_obs\", fn=dist.Normal(loc=z_collection[:T], scale=sigma), obs=obs)\n",
    "    numpyro.sample(name=\"y_pred\", fn=dist.Normal(loc=z_collection[T:], scale=sigma), obs=None)\n",
    "    "
   ]
  },
  {
   "cell_type": "code",
   "execution_count": 36,
   "metadata": {
    "ExecuteTime": {
     "end_time": "2020-04-23T12:44:37.658097Z",
     "start_time": "2020-04-23T12:44:19.108123Z"
    }
   },
   "outputs": [
    {
     "name": "stderr",
     "output_type": "stream",
     "text": [
      "sample: 100%|██████████| 4000/4000 [00:14<00:00, 271.87it/s, 1 steps of size 5.00e-03. acc. prob=0.00]\n"
     ]
    },
    {
     "name": "stdout",
     "output_type": "stream",
     "text": [
      "Total time: 0.309m\n"
     ]
    }
   ],
   "source": [
    "t0 = time.time()\n",
    "\n",
    "rng_key = random.PRNGKey(0)\n",
    "rng_key, rng_key_ = random.split(rng_key)\n",
    "\n",
    "nuts_kernel = NUTS(model=model, max_tree_depth=8, step_size=5e-3, adapt_step_size=False)\n",
    "mcmc = MCMC(nuts_kernel, num_samples=3000, num_warmup=1000, num_chains=1)\n",
    "mcmc.run(rng_key_, T=N_train, T_forecast=N_test, obs=y_train[:,0])\n",
    "\n",
    "t_fin = time.time()\n",
    "\n",
    "print(\"Total time: {0:.3f}m\".format((t_fin - t0)/60))"
   ]
  },
  {
   "cell_type": "code",
   "execution_count": 37,
   "metadata": {
    "ExecuteTime": {
     "end_time": "2020-04-23T12:44:38.591462Z",
     "start_time": "2020-04-23T12:44:38.437686Z"
    }
   },
   "outputs": [
    {
     "name": "stdout",
     "output_type": "stream",
     "text": [
      "\n",
      "                mean       std    median      5.0%     95.0%     n_eff     r_hat\n",
      "    beta_1      0.83      0.00      0.83      0.83      0.83       nan       nan\n",
      "    beta_2      1.08      0.00      1.08      1.08      1.08      0.50      1.00\n",
      " noises[0]     -0.88      0.00     -0.88     -0.88     -0.88      0.50      1.00\n",
      " noises[1]      0.15      0.00      0.15      0.15      0.15      0.50      1.00\n",
      " noises[2]     -0.52      0.00     -0.52     -0.52     -0.52      0.50      1.00\n",
      " noises[3]      1.00      0.00      1.00      1.00      1.00      0.50      1.00\n",
      " noises[4]      0.10      0.00      0.10      0.10      0.10      0.50      1.00\n",
      " noises[5]      1.68      0.00      1.68      1.68      1.68      0.50      1.00\n",
      " noises[6]     -0.00      0.00     -0.00     -0.00     -0.00       nan       nan\n",
      " noises[7]      0.09      0.00      0.09      0.09      0.09      0.50      1.00\n",
      " noises[8]     -0.93      0.00     -0.93     -0.93     -0.93      0.50      1.00\n",
      " noises[9]     -1.97      0.00     -1.97     -1.97     -1.97      0.50      1.00\n",
      "noises[10]      0.68      0.00      0.68      0.68      0.68      0.50      1.00\n",
      "noises[11]     -1.10      0.00     -1.10     -1.10     -1.10      0.50      1.00\n",
      "noises[12]     -1.52      0.00     -1.52     -1.52     -1.52      0.50      1.00\n",
      "noises[13]     -0.18      0.00     -0.18     -0.18     -0.18      0.50      1.00\n",
      "noises[14]     -0.01      0.00     -0.01     -0.01     -0.01      0.50      1.00\n",
      "noises[15]      0.73      0.00      0.73      0.73      0.73      0.50      1.00\n",
      "noises[16]     -1.45      0.00     -1.45     -1.45     -1.45      0.50      1.00\n",
      "noises[17]     -1.14      0.00     -1.14     -1.14     -1.14      0.50      1.00\n",
      "noises[18]      1.69      0.00      1.69      1.69      1.69      0.50      1.00\n",
      "noises[19]      0.68      0.00      0.68      0.68      0.68      0.50      1.00\n",
      "noises[20]      0.39      0.00      0.39      0.39      0.39      0.50      1.00\n",
      "noises[21]      0.21      0.00      0.21      0.21      0.21      0.50      1.00\n",
      "noises[22]     -0.47      0.00     -0.47     -0.47     -0.47      0.50      1.00\n",
      "noises[23]      1.91      0.00      1.91      1.91      1.91      0.50      1.00\n",
      "noises[24]      1.71      0.00      1.71      1.71      1.71      0.50      1.00\n",
      "noises[25]     -1.99      0.00     -1.99     -1.99     -1.99      0.50      1.00\n",
      "noises[26]      0.93      0.00      0.93      0.93      0.93      0.50      1.00\n",
      "noises[27]      1.44      0.00      1.44      1.44      1.44      0.50      1.00\n",
      "noises[28]     -1.68      0.00     -1.68     -1.68     -1.68      0.50      1.00\n",
      "noises[29]     -0.78      0.00     -0.78     -0.78     -0.78      0.50      1.00\n",
      "noises[30]      1.31      0.00      1.31      1.31      1.31      0.50      1.00\n",
      "noises[31]      0.25      0.00      0.25      0.25      0.25      0.50      1.00\n",
      "noises[32]      1.61      0.00      1.61      1.61      1.61      0.50      1.00\n",
      "noises[33]      1.56      0.00      1.56      1.56      1.56      0.50      1.00\n",
      "noises[34]     -1.91      0.00     -1.91     -1.91     -1.91      0.50      1.00\n",
      "noises[35]     -1.16      0.00     -1.16     -1.16     -1.16      0.50      1.00\n",
      "noises[36]      1.51      0.00      1.51      1.51      1.51      0.50      1.00\n",
      "noises[37]      1.02      0.00      1.02      1.02      1.02      0.50      1.00\n",
      "noises[38]     -0.22      0.00     -0.22     -0.22     -0.22      0.50      1.00\n",
      "noises[39]      0.82      0.00      0.82      0.82      0.82      0.50      1.00\n",
      "noises[40]      1.96      0.00      1.96      1.96      1.96      0.50      1.00\n",
      "noises[41]     -0.78      0.00     -0.78     -0.78     -0.78      0.50      1.00\n",
      "noises[42]      1.57      0.00      1.57      1.57      1.57      0.50      1.00\n",
      "noises[43]      0.16      0.00      0.16      0.16      0.16      0.50      1.00\n",
      "noises[44]     -0.08      0.00     -0.08     -0.08     -0.08      0.50      1.00\n",
      "noises[45]      0.24      0.00      0.24      0.24      0.24      0.50      1.00\n",
      "noises[46]      0.67      0.00      0.67      0.67      0.67      0.50      1.00\n",
      "noises[47]      0.32      0.00      0.32      0.32      0.32      0.50      1.00\n",
      "noises[48]      0.42      0.00      0.42      0.42      0.42      0.50       nan\n",
      "noises[49]     -0.57      0.00     -0.57     -0.57     -0.57      0.50      1.00\n",
      "noises[50]     -1.33      0.00     -1.33     -1.33     -1.33      0.50      1.00\n",
      "     sigma      6.63      0.00      6.63      6.63      6.63       nan       nan\n",
      "       tau      3.56      0.00      3.56      3.56      3.56      0.50      1.00\n",
      " y_pred[0]     -1.37      0.00     -1.37     -1.37     -1.37      0.50      1.00\n",
      " y_pred[1]     -1.61      0.00     -1.61     -1.61     -1.61      0.50      1.00\n",
      " y_pred[2]      0.75      0.00      0.75      0.75      0.75      0.50      1.00\n",
      " y_pred[3]     -1.22      0.00     -1.22     -1.22     -1.22      0.50      1.00\n",
      " y_pred[4]      1.19      0.00      1.19      1.19      1.19      0.50      1.00\n",
      " y_pred[5]      1.40      0.00      1.40      1.40      1.40      0.50      1.00\n",
      " y_pred[6]     -0.82      0.00     -0.82     -0.82     -0.82       nan      1.00\n",
      " y_pred[7]     -0.40      0.00     -0.40     -0.40     -0.40      0.50      1.00\n",
      "       z_1     -1.53      0.00     -1.53     -1.53     -1.53       nan       nan\n",
      "       z_2      0.27      0.00      0.27      0.27      0.27       nan       nan\n",
      "\n",
      "Number of divergences: 3000\n"
     ]
    }
   ],
   "source": [
    "mcmc.print_summary()"
   ]
  },
  {
   "cell_type": "code",
   "execution_count": 38,
   "metadata": {
    "ExecuteTime": {
     "end_time": "2020-04-23T12:44:43.261202Z",
     "start_time": "2020-04-23T12:44:43.256249Z"
    }
   },
   "outputs": [],
   "source": [
    "hmc_samples = {k: v for k, v in mcmc.get_samples().items()}"
   ]
  },
  {
   "cell_type": "code",
   "execution_count": 39,
   "metadata": {
    "ExecuteTime": {
     "end_time": "2020-04-23T12:44:44.614398Z",
     "start_time": "2020-04-23T12:44:43.673828Z"
    }
   },
   "outputs": [
    {
     "name": "stderr",
     "output_type": "stream",
     "text": [
      "/home/evangelos/.cache/pypoetry/virtualenvs/mbml-energy-predictor-fRCGeReP-py3.8/lib/python3.8/site-packages/seaborn/distributions.py:288: UserWarning: Data must have variance to compute a kernel density estimate.\n",
      "  warnings.warn(msg, UserWarning)\n"
     ]
    },
    {
     "data": {
      "image/png": "[encoded data removed]",
      "text/plain": [
       "<Figure size 288x216 with 1 Axes>"
      ]
     },
     "metadata": {
      "needs_background": "light"
     },
     "output_type": "display_data"
    },
    {
     "name": "stderr",
     "output_type": "stream",
     "text": [
      "/home/evangelos/.cache/pypoetry/virtualenvs/mbml-energy-predictor-fRCGeReP-py3.8/lib/python3.8/site-packages/seaborn/distributions.py:288: UserWarning: Data must have variance to compute a kernel density estimate.\n",
      "  warnings.warn(msg, UserWarning)\n"
     ]
    },
    {
     "data": {
      "image/png": "[encoded data removed]",
      "text/plain": [
       "<Figure size 288x216 with 1 Axes>"
      ]
     },
     "metadata": {
      "needs_background": "light"
     },
     "output_type": "display_data"
    },
    {
     "name": "stderr",
     "output_type": "stream",
     "text": [
      "/home/evangelos/.cache/pypoetry/virtualenvs/mbml-energy-predictor-fRCGeReP-py3.8/lib/python3.8/site-packages/seaborn/distributions.py:288: UserWarning: Data must have variance to compute a kernel density estimate.\n",
      "  warnings.warn(msg, UserWarning)\n"
     ]
    },
    {
     "data": {
      "image/png": "[encoded data removed]",
      "text/plain": [
       "<Figure size 288x216 with 1 Axes>"
      ]
     },
     "metadata": {
      "needs_background": "light"
     },
     "output_type": "display_data"
    },
    {
     "name": "stderr",
     "output_type": "stream",
     "text": [
      "/home/evangelos/.cache/pypoetry/virtualenvs/mbml-energy-predictor-fRCGeReP-py3.8/lib/python3.8/site-packages/seaborn/distributions.py:288: UserWarning: Data must have variance to compute a kernel density estimate.\n",
      "  warnings.warn(msg, UserWarning)\n"
     ]
    },
    {
     "data": {
      "image/png": "[encoded data removed]",
      "text/plain": [
       "<Figure size 288x216 with 1 Axes>"
      ]
     },
     "metadata": {
      "needs_background": "light"
     },
     "output_type": "display_data"
    }
   ],
   "source": [
    "nodes = [\"beta_1\", \"beta_2\", \"tau\", \"sigma\"]\n",
    "for node in nodes:\n",
    "    plt.figure(figsize=(4,3))\n",
    "    sns.distplot(hmc_samples[node], label=node)\n",
    "    plt.legend()\n",
    "    plt.show()"
   ]
  },
  {
   "cell_type": "code",
   "execution_count": 40,
   "metadata": {
    "ExecuteTime": {
     "end_time": "2020-04-23T12:44:46.932753Z",
     "start_time": "2020-04-23T12:44:46.774336Z"
    }
   },
   "outputs": [],
   "source": [
    "q = hmc_samples[\"y_pred\"]\n",
    "q_mean = q.mean(axis=0).reshape(-1,)\n",
    "q_std = q.std(axis=0).reshape(-1,)\n",
    "y_pred_025 = q_mean - 1.96*q_std\n",
    "y_pred_975 = q_mean + 1.96*q_std\n",
    "y_pred_mean = q_mean"
   ]
  },
  {
   "cell_type": "code",
   "execution_count": 41,
   "metadata": {
    "ExecuteTime": {
     "end_time": "2020-04-23T12:44:47.416633Z",
     "start_time": "2020-04-23T12:44:47.072145Z"
    }
   },
   "outputs": [
    {
     "data": {
      "image/png": "[encoded data removed]",
      "text/plain": [
       "<Figure size 1152x720 with 1 Axes>"
      ]
     },
     "metadata": {
      "needs_background": "light"
     },
     "output_type": "display_data"
    }
   ],
   "source": [
    "plt.plot(ix_train[-20:], y_train[-20:, 0], \"b-\")\n",
    "plt.plot(ix_test, y_test[:, 0], \"bx\")\n",
    "plt.plot(ix_test, y_pred_mean, \"r-\")\n",
    "plt.plot(ix_test, y_pred_025, \"r--\")\n",
    "plt.plot(ix_test, y_pred_975, \"r--\")\n",
    "plt.fill_between(ix_test, y_pred_025, y_pred_975, alpha=0.3)\n",
    "plt.legend([\"true (train)\",\"true (test)\",\"forecast\",\"forecast + stddev\",\"forecast - stddev\"])\n",
    "plt.show()"
   ]
  },
  {
   "cell_type": "code",
   "execution_count": null,
   "metadata": {},
   "outputs": [],
   "source": []
  }
 ],
 "metadata": {
  "kernelspec": {
   "display_name": "Python 3",
   "language": "python",
   "name": "python3"
  },
  "toc": {
   "base_numbering": 1,
   "nav_menu": {},
   "number_sections": true,
   "sideBar": true,
   "skip_h1_title": false,
   "title_cell": "Table of Contents",
   "title_sidebar": "Contents",
   "toc_cell": false,
   "toc_position": {},
   "toc_section_display": true,
   "toc_window_display": false
  },
  "varInspector": {
   "cols": {
    "lenName": 16,
    "lenType": 16,
    "lenVar": 40
   },
   "kernels_config": {
    "python": {
     "delete_cmd_postfix": "",
     "delete_cmd_prefix": "del ",
     "library": "var_list.py",
     "varRefreshCmd": "print(var_dic_list())"
    },
    "r": {
     "delete_cmd_postfix": ") ",
     "delete_cmd_prefix": "rm(",
     "library": "var_list.r",
     "varRefreshCmd": "cat(var_dic_list()) "
    }
   },
   "types_to_exclude": [
    "module",
    "function",
    "builtin_function_or_method",
    "instance",
    "_Feature"
   ],
   "window_display": false
  }
 },
 "nbformat": 4,
 "nbformat_minor": 4
}
